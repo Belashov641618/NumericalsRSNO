{
 "cells": [
  {
   "cell_type": "markdown",
   "id": "86b34e99-1678-4c03-9a99-cad425c31998",
   "metadata": {},
   "source": [
    "# Общая Теория"
   ]
  },
  {
   "cell_type": "markdown",
   "id": "a9535ddf-82a7-4464-94c1-4b636e7f5b44",
   "metadata": {},
   "source": [
    "![Бреговское зеркало](breg.png)"
   ]
  },
  {
   "cell_type": "markdown",
   "id": "44fd68b5-8a60-4a49-bfa7-173ce5ae16c7",
   "metadata": {},
   "source": [
    "**Решение для плоской электромагниной волны вдоль оси $Z$ в каждом слое имеет вид**\n",
    "$$\n",
    "\\begin{cases}\n",
    "E_x = A^+e^{-i\\left(\\omega t - kz\\right)} + A^-e^{-i\\left(\\omega t + kz\\right)} \\\\\n",
    "H_y = nA^+e^{-i\\left(\\omega t - kz\\right)} - nA^-e^{-i\\left(\\omega t + kz\\right)}\n",
    "\\end{cases}\n",
    "\\rightarrow\n",
    "A=\n",
    "\\left(\\begin{matrix}\n",
    "A^+e^{-i\\left(\\omega t - kz\\right)} \\\\\n",
    "A^-e^{-i\\left(\\omega t + kz\\right)}\n",
    "\\end{matrix}\\right)\n",
    "$$"
   ]
  },
  {
   "cell_type": "markdown",
   "id": "ddfbbd6b-58e6-45b7-a5e9-8235d3610e15",
   "metadata": {},
   "source": [
    "**Выражение для постоянных $\\omega$ и $k$ через $\\lambda$ и $n$:**\n",
    "$$\n",
    "\\begin{cases}\n",
    "\\omega = \\frac{2\\pi c}{\\lambda} \\\\\n",
    "k = \\frac{2\\pi n}{\\lambda}\n",
    "\\end{cases}\n",
    "$$"
   ]
  },
  {
   "cell_type": "markdown",
   "id": "042692bc-a03b-47fe-8554-746a092401be",
   "metadata": {},
   "source": [
    "Амплитуды $A^+$ и $A^-$ будут изменятся при прохождении через среду, поэтому можно записать, что $A=A(z)$.\n",
    "Введём матрицу преобразования $A$ в зависимости от расстояния так, чтобы она обладала свойством: $A(z+d)=T_dA(z)$.\n",
    "То есть, $T_d$ матрица переноса через однородную среду(слой) толщины $d$."
   ]
  },
  {
   "cell_type": "markdown",
   "id": "066c1351-b3fb-4a9b-ac2f-7ab50c6699aa",
   "metadata": {},
   "source": [
    "**Матрица переноса $T_d$ имеет следующий вид:**\n",
    "$$\n",
    "T_d = \n",
    "\\left(\\begin{matrix}\n",
    "e^{+ikd} & 0 \\\\\n",
    "0 & e^{-ikd}\n",
    "\\end{matrix}\\right)        \n",
    "$$"
   ]
  },
  {
   "cell_type": "markdown",
   "id": "6794ffc6-4f20-47ab-a3a6-7b5378d79554",
   "metadata": {},
   "source": [
    "**Выражение $E_x$, $H_y$ через вектор $A$:**\n",
    "$$\n",
    "\\begin{matrix}\n",
    "\\left(\\begin{matrix}\n",
    "E_x \\\\ H_y\n",
    "\\end{matrix}\\right)\n",
    "= F \\cdot A\n",
    "= \\left(\\begin{matrix}\n",
    "1 & 1 \\\\\n",
    "+n & -n\n",
    "\\end{matrix}\\right)\n",
    "\\cdot A\n",
    "&\n",
    "\\rightarrow\n",
    "&\n",
    "F = \\left(\\begin{matrix}\n",
    "1 & 1 \\\\\n",
    "+n & -n\n",
    "\\end{matrix}\\right)\n",
    "\\end{matrix}\n",
    "$$"
   ]
  },
  {
   "cell_type": "markdown",
   "id": "b700285f-ab46-48a3-ae93-330bfc822dc4",
   "metadata": {},
   "source": [
    "**Выражение вектора $A$ через $E_x$, $H_y$:**\n",
    "$$\n",
    "\\begin{matrix}\n",
    "A = F^{-1} \\cdot \\left(\\begin{matrix}\n",
    "E_x \\\\ H_y\n",
    "\\end{matrix}\\right)\n",
    "&\n",
    "\\rightarrow\n",
    "&\n",
    "F^{-1} = \\frac{1}{2}\\left(\\begin{matrix}\n",
    "1 & +\\frac{1}{n} \\\\\n",
    "1 & -\\frac{1}{n}\n",
    "\\end{matrix}\\right)\n",
    "\\end{matrix}\n",
    "$$"
   ]
  },
  {
   "cell_type": "markdown",
   "id": "48108a8d-8cec-4915-b70e-5293db2e7387",
   "metadata": {},
   "source": [
    "При переходе волны из среды $\\varepsilon_1$ в среду $\\varepsilon_2$ компоненты $E_x$ и $H_y$ преобразуются.\n",
    "Пусть компонента $E_{x,1}$ переходит в $E_{x,2}$, а $H_{y,1}$ переходит в $H_{y,2}$.\n",
    "Запишем этот переход с помощью матрицы перехода из среды $1$ в среду $2$ с помощью матрицы $T_{12}$.\n",
    "Причём матрица $T_{12}$ действует на вектор $A$."
   ]
  },
  {
   "cell_type": "markdown",
   "id": "95ae6f2c-cd78-437d-ade5-5f710036dd3c",
   "metadata": {},
   "source": [
    "**Преобразование вектора $A$ при переходе из одной среды в другую:**\n",
    "$$\n",
    "A_2 = \\left(\\begin{matrix}\n",
    "A_2^+ \\\\ A_2^-\n",
    "\\end{matrix}\\right) =\n",
    "T_{12} \\cdot \\left(\\begin{matrix}\n",
    "A_1^+ \\\\ A_1^-\n",
    "\\end{matrix}\\right) = \n",
    "T_{12} \\cdot A_1\n",
    "$$"
   ]
  },
  {
   "cell_type": "markdown",
   "id": "a8405217-9f2d-4722-a301-1eb38456e8ad",
   "metadata": {},
   "source": [
    "**Граничные условия на тангенциальные компоненты:** \\\n",
    "Учитывая оригинальные граничные условия на тенгенциальные компоненты\n",
    "$$\n",
    "\\begin{matrix}\n",
    "E_{1,\\tau} = E_{2,\\tau} \n",
    "&&& \n",
    "\\left[n \\times \\left(\\vec{H}_1 - \\vec{H}_2\\right) \\right] = \\frac{4\\pi}{c}\\vec{j} \n",
    "\\end{matrix}\n",
    "$$\n",
    "и тот факт, что токи на границе двух диэлектриков отсутствуют\n",
    "$$\n",
    "\\begin{matrix}\n",
    "E_{1,\\tau} = E_{2,\\tau}\n",
    "&&&\n",
    "H_{1,\\tau} = H_{2,\\tau}\n",
    "\\end{matrix}\n",
    "$$"
   ]
  },
  {
   "cell_type": "markdown",
   "id": "4202e3dc-9609-4b1e-a433-756d5e8ea9b7",
   "metadata": {},
   "source": [
    "Учитывая полученные граничные условия, можно записать что:\n",
    "$$\n",
    "\\left(\\begin{matrix}\n",
    "E_{x,2} \\\\ H_{y,2}\n",
    "\\end{matrix}\\right) = \\left(\\begin{matrix}\n",
    "E_{x,1} \\\\ H_{y,1}\n",
    "\\end{matrix}\\right)\n",
    "$$\n",
    "Выражая $E_x$ и $H_y$ через $A$ можно получить следующее выражение:\n",
    "$$\n",
    "F_2 \\cdot A_2 = F_1 \\cdot A_1\n",
    "$$\n",
    "Умножив выражение на $F_2^{-1}$ получим выражение:\n",
    "$$\n",
    "A_2 = F_2^{-1}F_1 \\cdot A_1 \n",
    "$$\n",
    "Заметим, что $F_2^{-1}F_1$ это как раз и есть матрица перехода из среды $1$ в среду $2$, то есть матрица $T_{12}$"
   ]
  },
  {
   "cell_type": "markdown",
   "id": "1ad7c9c3-36ba-48da-8479-fff9d5cc13d7",
   "metadata": {},
   "source": [
    "**Выражение для матрицы перехода $T_{12}$:**\n",
    "$$\n",
    "T_{12} = F_2^{-1}F_1 = \\frac{1}{2}\\left(\\begin{matrix}\n",
    "1 & +\\frac{1}{n_2} \\\\\n",
    "1 & -\\frac{1}{n_2}\n",
    "\\end{matrix}\\right) \\cdot \\left(\\begin{matrix}\n",
    "1 & 1 \\\\\n",
    "+n_1 & -n_1\n",
    "\\end{matrix}\\right) = \\frac{1}{2}\\left(\\begin{matrix}\n",
    "1+\\frac{n_1}{n_2} & 1-\\frac{n_1}{n_2} \\\\\n",
    "1-\\frac{n_1}{n_2} & 1+\\frac{n_1}{n_2}\n",
    "\\end{matrix}\\right)\n",
    "$$\n",
    "$$\n",
    "T_{12} = \\frac{1}{2}\\left(\\begin{matrix}\n",
    "1+\\frac{n_1}{n_2} & 1-\\frac{n_1}{n_2} \\\\\n",
    "1-\\frac{n_1}{n_2} & 1+\\frac{n_1}{n_2}\n",
    "\\end{matrix}\\right)\n",
    "$$"
   ]
  },
  {
   "cell_type": "markdown",
   "id": "7265a644-a3ae-4ffc-9ae4-72c57ca76829",
   "metadata": {},
   "source": [
    "Выражени для матрицы перехода $T_{21}$ из среды $2$ в среду $1$ получается аналогично."
   ]
  },
  {
   "cell_type": "markdown",
   "id": "e0efe734-380f-4c40-a8e8-c1b2115eccf4",
   "metadata": {},
   "source": [
    "**Выражение для матрицы перехода $T_{21}$:**\n",
    "$$\n",
    "T_{21} = \\frac{1}{2}\\left(\\begin{matrix}\n",
    "1+\\frac{n_2}{n_1} & 1-\\frac{n_2}{n_1} \\\\\n",
    "1-\\frac{n_2}{n_1} & 1+\\frac{n_2}{n_1}\n",
    "\\end{matrix}\\right)\n",
    "$$"
   ]
  },
  {
   "cell_type": "code",
   "execution_count": null,
   "id": "0128d0d7-8391-44f2-822c-feeef9a4cc1b",
   "metadata": {},
   "outputs": [],
   "source": []
  },
  {
   "cell_type": "code",
   "execution_count": null,
   "id": "c1a276ae-6f12-434f-b61d-412309c3effe",
   "metadata": {},
   "outputs": [],
   "source": []
  },
  {
   "cell_type": "code",
   "execution_count": null,
   "id": "b10c75cb-d207-4549-9da8-22e819860ee2",
   "metadata": {},
   "outputs": [],
   "source": []
  },
  {
   "cell_type": "code",
   "execution_count": null,
   "id": "5c06100c-4b75-40ea-bbc9-f2225260707c",
   "metadata": {},
   "outputs": [],
   "source": []
  },
  {
   "cell_type": "code",
   "execution_count": null,
   "id": "880ae394-f263-4b79-a241-a6ca834fe16f",
   "metadata": {},
   "outputs": [],
   "source": []
  },
  {
   "cell_type": "code",
   "execution_count": null,
   "id": "925133fb-48ec-445f-b012-9f2417a0ae4a",
   "metadata": {},
   "outputs": [],
   "source": []
  },
  {
   "cell_type": "code",
   "execution_count": null,
   "id": "7677b1fa-ebd2-4499-8867-25e827d1f798",
   "metadata": {},
   "outputs": [],
   "source": []
  },
  {
   "cell_type": "code",
   "execution_count": null,
   "id": "4a297c73-0f16-46f4-a762-2a026db7bf9d",
   "metadata": {},
   "outputs": [],
   "source": []
  },
  {
   "cell_type": "markdown",
   "id": "311f54ab-340e-4c61-8763-d6a273261b63",
   "metadata": {},
   "source": [
    "На границе двух диэлектриков, часть эектромагнитной волны проходит из диэлектрика $1$ в диэлектрик $2$, а вторая часть отразится, при этом выполняются законы сохранения:\n",
    "$$\n",
    "\\begin{cases}\n",
    "E = E_r + E_t \\\\\n",
    "H = H_r + H_t\n",
    "\\end{cases}\n",
    "$$\n",
    "В случае перехода из среды $1$ в среду $2$:\n",
    "$$\n",
    "\\begin{cases}\n",
    "    \\left(\\begin{matrix}\n",
    "    E \\\\ H\n",
    "    \\end{matrix}\\right) = \\left(\\begin{matrix}\n",
    "    E_{x,1} \\\\ H_{y,1}\n",
    "    \\end{matrix}\\right)\n",
    "\\\\\n",
    "    \\left(\\begin{matrix}\n",
    "    E_t \\\\ H_t\n",
    "    \\end{matrix}\\right) = \\left(\\begin{matrix}\n",
    "    E_{x,2} \\\\ H_{y,2}\n",
    "    \\end{matrix}\\right)\n",
    "\\\\\n",
    "    \\left(\\begin{matrix}\n",
    "    E_r \\\\ H_r\n",
    "    \\end{matrix}\\right) = \\left(\\begin{matrix}\n",
    "    E_{x,1r} \\\\ H_{y,1r}\n",
    "    \\end{matrix}\\right)\n",
    "\\end{cases}\n",
    "$$\n",
    "Выражение для компонент $E_r$ и $H_r$ неизвестны, поэтому выразим их:\n",
    "$$\n",
    "\\begin{cases}\n",
    "E_r = E - E_t \\rightarrow E_{x,1r} = E_{x,1} - E_{x,2} \\\\\n",
    "H_r = H - H_t \\rightarrow H_{y,1r} = H_{y,1} - H_{y,2} \\\\\n",
    "\\end{cases}\n",
    "$$\n",
    "Выразим в матричной форме:\n",
    "$$\n",
    "\\left(\\begin{matrix}\n",
    "E_{x,1r} \\\\ H_{y,1r}\n",
    "\\end{matrix}\\right) = \\left(\\begin{matrix}\n",
    "E_{x,1} \\\\ H_{y,1}\n",
    "\\end{matrix}\\right) - \\left(\\begin{matrix}\n",
    "E_{x,2} \\\\ H_{y,2}\n",
    "\\end{matrix}\\right) \n",
    "$$\n",
    "Выразим через вектора $A_1$, $A_2$ и $A_{1r}$:\n",
    "$$\n",
    "F_1 \\cdot A_{1r} = F_1 \\cdot A_1 - F_2 \\cdot A_2\n",
    "$$\n",
    "Подействуем матрицей $F_1^{-1}$\n",
    "$$\n",
    "A_{1r} = A_1 - F_1^{-1}F_2 \\cdot A_2\n",
    "$$\n",
    "Выразим $A_2$ через $A_1$:\n",
    "$$\n",
    "A_{1r} = A_1 - F_1^{-1}F_2T_{12} \\cdot A_1 = A_1 - F_1^{-1}F_2F_2^{-1}F_1 \\cdot A_1\n",
    "$$"
   ]
  },
  {
   "cell_type": "markdown",
   "id": "62894ed3-3ddd-41aa-9581-0a2208ef02aa",
   "metadata": {},
   "source": [
    "# Задания"
   ]
  },
  {
   "cell_type": "markdown",
   "id": "3b02fc5c-e7d0-47a9-a92b-cf3e82df6618",
   "metadata": {},
   "source": [
    "## Задание 2.22.1"
   ]
  },
  {
   "cell_type": "markdown",
   "id": "a5211202-8d0c-4c5e-a5f5-4985ea9e89d1",
   "metadata": {},
   "source": [
    "**Брэгговское зеркало.**\n",
    "\n",
    "Рассчитать спектры отражения и пропусканиябрэгговского зеркала, состоящего из $N$ пар $\\frac{\\lambda}{4}$ слоев $GaAs\\left(AlAs\\right)$. \\\n",
    "Пусть диэлектрическая проницаемость $GaAs\\left(AlAs\\right)$ равна $12\\left(9\\right)$, а центральная частота стоп-зоны соответствует энергии фотона $1$ **эВ**. \\\n",
    "Как велико должно быть число брэгговских пар $N$, чтобы коэффициент отражения в центре стоп-зоны превосходил $R=0.9999$?"
   ]
  },
  {
   "cell_type": "markdown",
   "id": "acfadf55-f04b-4620-bf0c-8f29c9e36b56",
   "metadata": {},
   "source": []
  },
  {
   "cell_type": "code",
   "execution_count": null,
   "id": "5f23671d-c64c-4f04-b6ce-999369e0cb5c",
   "metadata": {},
   "outputs": [],
   "source": []
  },
  {
   "cell_type": "markdown",
   "id": "ba084256-64e0-4c5f-9bb8-efaa55d91c64",
   "metadata": {},
   "source": [
    "## Задание 2.22.2"
   ]
  },
  {
   "cell_type": "markdown",
   "id": "11b61c18-49b2-441a-920c-e82616afab8a",
   "metadata": {},
   "source": []
  },
  {
   "cell_type": "code",
   "execution_count": null,
   "id": "0db81846-c5db-4b62-acef-9c383cbe55aa",
   "metadata": {},
   "outputs": [],
   "source": []
  },
  {
   "cell_type": "markdown",
   "id": "531760c8-e91a-489a-9379-38a00008603d",
   "metadata": {},
   "source": [
    "## Задание 2.22.3"
   ]
  },
  {
   "cell_type": "markdown",
   "id": "9b2885fa-b674-494d-8f56-2441221bcba1",
   "metadata": {},
   "source": []
  },
  {
   "cell_type": "code",
   "execution_count": null,
   "id": "c986d7b7-2f51-4085-98e3-0dd69df9ad17",
   "metadata": {},
   "outputs": [],
   "source": []
  },
  {
   "cell_type": "markdown",
   "id": "859e3133-6f8c-46ea-b56c-ab43988aee5e",
   "metadata": {},
   "source": [
    "## Задание 2.22.4"
   ]
  },
  {
   "cell_type": "markdown",
   "id": "1681915d-be1c-4d9e-b429-2d1245e805fd",
   "metadata": {},
   "source": []
  },
  {
   "cell_type": "code",
   "execution_count": null,
   "id": "1b7a2077-5b45-4cd9-b32b-6d87bbff95f8",
   "metadata": {},
   "outputs": [],
   "source": []
  }
 ],
 "metadata": {
  "kernelspec": {
   "display_name": "Python 3 (ipykernel)",
   "language": "python",
   "name": "python3"
  },
  "language_info": {
   "codemirror_mode": {
    "name": "ipython",
    "version": 3
   },
   "file_extension": ".py",
   "mimetype": "text/x-python",
   "name": "python",
   "nbconvert_exporter": "python",
   "pygments_lexer": "ipython3",
   "version": "3.12.1"
  }
 },
 "nbformat": 4,
 "nbformat_minor": 5
}
